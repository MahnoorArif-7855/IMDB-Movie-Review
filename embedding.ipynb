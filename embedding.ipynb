{
 "cells": [
  {
   "cell_type": "code",
   "execution_count": 1,
   "metadata": {},
   "outputs": [],
   "source": [
    "from tensorflow.keras.preprocessing.text import one_hot"
   ]
  },
  {
   "cell_type": "code",
   "execution_count": 2,
   "metadata": {},
   "outputs": [],
   "source": [
    "### sentences\n",
    "sent=[  'the glass of milk',\n",
    "     'the glass of juice',\n",
    "     'the cup of tea',\n",
    "    'I am a good boy',\n",
    "     'I am a good developer',\n",
    "     'understand the meaning of words',\n",
    "     'your videos are good',]"
   ]
  },
  {
   "cell_type": "code",
   "execution_count": 3,
   "metadata": {},
   "outputs": [
    {
     "data": {
      "text/plain": [
       "['the glass of milk',\n",
       " 'the glass of juice',\n",
       " 'the cup of tea',\n",
       " 'I am a good boy',\n",
       " 'I am a good developer',\n",
       " 'understand the meaning of words',\n",
       " 'your videos are good']"
      ]
     },
     "execution_count": 3,
     "metadata": {},
     "output_type": "execute_result"
    }
   ],
   "source": [
    "sent"
   ]
  },
  {
   "cell_type": "code",
   "execution_count": 4,
   "metadata": {},
   "outputs": [],
   "source": [
    "## Define the vocabulary size\n",
    "voc_size=10000"
   ]
  },
  {
   "cell_type": "code",
   "execution_count": 5,
   "metadata": {},
   "outputs": [
    {
     "data": {
      "text/plain": [
       "['the glass of milk',\n",
       " 'the glass of juice',\n",
       " 'the cup of tea',\n",
       " 'I am a good boy',\n",
       " 'I am a good developer',\n",
       " 'understand the meaning of words',\n",
       " 'your videos are good']"
      ]
     },
     "execution_count": 5,
     "metadata": {},
     "output_type": "execute_result"
    }
   ],
   "source": [
    "sent"
   ]
  },
  {
   "cell_type": "code",
   "execution_count": 6,
   "metadata": {},
   "outputs": [
    {
     "data": {
      "text/plain": [
       "[[6869, 9359, 1830, 9992],\n",
       " [6869, 9359, 1830, 4945],\n",
       " [6869, 1197, 1830, 7657],\n",
       " [6561, 2618, 9378, 2008, 2707],\n",
       " [6561, 2618, 9378, 2008, 7603],\n",
       " [9135, 6869, 7159, 1830, 3306],\n",
       " [7377, 8696, 948, 2008]]"
      ]
     },
     "execution_count": 6,
     "metadata": {},
     "output_type": "execute_result"
    }
   ],
   "source": [
    "### One Hot Representation\n",
    "one_hot_repr=[one_hot(words,voc_size)for words in sent]\n",
    "one_hot_repr"
   ]
  },
  {
   "cell_type": "code",
   "execution_count": 7,
   "metadata": {},
   "outputs": [],
   "source": [
    "## word Embedding Representation\n",
    "\n",
    "from tensorflow.keras.layers import Embedding\n",
    "#from tensorflow.keras.processing.sequence import pad_sequences\n",
    "from tensorflow.keras.utils import pad_sequences\n",
    "from tensorflow.keras.models import Sequential"
   ]
  },
  {
   "cell_type": "code",
   "execution_count": 8,
   "metadata": {},
   "outputs": [],
   "source": [
    "import numpy as np"
   ]
  },
  {
   "cell_type": "code",
   "execution_count": 9,
   "metadata": {},
   "outputs": [
    {
     "name": "stdout",
     "output_type": "stream",
     "text": [
      "[[   0    0    0    0 6869 9359 1830 9992]\n",
      " [   0    0    0    0 6869 9359 1830 4945]\n",
      " [   0    0    0    0 6869 1197 1830 7657]\n",
      " [   0    0    0 6561 2618 9378 2008 2707]\n",
      " [   0    0    0 6561 2618 9378 2008 7603]\n",
      " [   0    0    0 9135 6869 7159 1830 3306]\n",
      " [   0    0    0    0 7377 8696  948 2008]]\n"
     ]
    }
   ],
   "source": [
    "sent_length=8\n",
    "embedded_docs=pad_sequences(one_hot_repr,padding='pre',maxlen=sent_length)\n",
    "print(embedded_docs)"
   ]
  },
  {
   "cell_type": "code",
   "execution_count": 10,
   "metadata": {},
   "outputs": [],
   "source": [
    "## feature representation\n",
    "dim=10"
   ]
  },
  {
   "cell_type": "code",
   "execution_count": 11,
   "metadata": {},
   "outputs": [
    {
     "name": "stderr",
     "output_type": "stream",
     "text": [
      "e:\\Generative AI\\ANN\\virtual_env\\Lib\\site-packages\\keras\\src\\layers\\core\\embedding.py:97: UserWarning: Argument `input_length` is deprecated. Just remove it.\n",
      "  warnings.warn(\n"
     ]
    }
   ],
   "source": [
    "model=Sequential()\n",
    "model.add(Embedding(voc_size,dim,input_length=sent_length))\n",
    "model.compile('adam','mse')"
   ]
  },
  {
   "cell_type": "code",
   "execution_count": 12,
   "metadata": {},
   "outputs": [
    {
     "data": {
      "text/html": [
       "<pre style=\"white-space:pre;overflow-x:auto;line-height:normal;font-family:Menlo,'DejaVu Sans Mono',consolas,'Courier New',monospace\"><span style=\"font-weight: bold\">Model: \"sequential\"</span>\n",
       "</pre>\n"
      ],
      "text/plain": [
       "\u001b[1mModel: \"sequential\"\u001b[0m\n"
      ]
     },
     "metadata": {},
     "output_type": "display_data"
    },
    {
     "data": {
      "text/html": [
       "<pre style=\"white-space:pre;overflow-x:auto;line-height:normal;font-family:Menlo,'DejaVu Sans Mono',consolas,'Courier New',monospace\">┏━━━━━━━━━━━━━━━━━━━━━━━━━━━━━━━━━┳━━━━━━━━━━━━━━━━━━━━━━━━┳━━━━━━━━━━━━━━━┓\n",
       "┃<span style=\"font-weight: bold\"> Layer (type)                    </span>┃<span style=\"font-weight: bold\"> Output Shape           </span>┃<span style=\"font-weight: bold\">       Param # </span>┃\n",
       "┡━━━━━━━━━━━━━━━━━━━━━━━━━━━━━━━━━╇━━━━━━━━━━━━━━━━━━━━━━━━╇━━━━━━━━━━━━━━━┩\n",
       "│ embedding (<span style=\"color: #0087ff; text-decoration-color: #0087ff\">Embedding</span>)           │ ?                      │   <span style=\"color: #00af00; text-decoration-color: #00af00\">0</span> (unbuilt) │\n",
       "└─────────────────────────────────┴────────────────────────┴───────────────┘\n",
       "</pre>\n"
      ],
      "text/plain": [
       "┏━━━━━━━━━━━━━━━━━━━━━━━━━━━━━━━━━┳━━━━━━━━━━━━━━━━━━━━━━━━┳━━━━━━━━━━━━━━━┓\n",
       "┃\u001b[1m \u001b[0m\u001b[1mLayer (type)                   \u001b[0m\u001b[1m \u001b[0m┃\u001b[1m \u001b[0m\u001b[1mOutput Shape          \u001b[0m\u001b[1m \u001b[0m┃\u001b[1m \u001b[0m\u001b[1m      Param #\u001b[0m\u001b[1m \u001b[0m┃\n",
       "┡━━━━━━━━━━━━━━━━━━━━━━━━━━━━━━━━━╇━━━━━━━━━━━━━━━━━━━━━━━━╇━━━━━━━━━━━━━━━┩\n",
       "│ embedding (\u001b[38;5;33mEmbedding\u001b[0m)           │ ?                      │   \u001b[38;5;34m0\u001b[0m (unbuilt) │\n",
       "└─────────────────────────────────┴────────────────────────┴───────────────┘\n"
      ]
     },
     "metadata": {},
     "output_type": "display_data"
    },
    {
     "data": {
      "text/html": [
       "<pre style=\"white-space:pre;overflow-x:auto;line-height:normal;font-family:Menlo,'DejaVu Sans Mono',consolas,'Courier New',monospace\"><span style=\"font-weight: bold\"> Total params: </span><span style=\"color: #00af00; text-decoration-color: #00af00\">0</span> (0.00 B)\n",
       "</pre>\n"
      ],
      "text/plain": [
       "\u001b[1m Total params: \u001b[0m\u001b[38;5;34m0\u001b[0m (0.00 B)\n"
      ]
     },
     "metadata": {},
     "output_type": "display_data"
    },
    {
     "data": {
      "text/html": [
       "<pre style=\"white-space:pre;overflow-x:auto;line-height:normal;font-family:Menlo,'DejaVu Sans Mono',consolas,'Courier New',monospace\"><span style=\"font-weight: bold\"> Trainable params: </span><span style=\"color: #00af00; text-decoration-color: #00af00\">0</span> (0.00 B)\n",
       "</pre>\n"
      ],
      "text/plain": [
       "\u001b[1m Trainable params: \u001b[0m\u001b[38;5;34m0\u001b[0m (0.00 B)\n"
      ]
     },
     "metadata": {},
     "output_type": "display_data"
    },
    {
     "data": {
      "text/html": [
       "<pre style=\"white-space:pre;overflow-x:auto;line-height:normal;font-family:Menlo,'DejaVu Sans Mono',consolas,'Courier New',monospace\"><span style=\"font-weight: bold\"> Non-trainable params: </span><span style=\"color: #00af00; text-decoration-color: #00af00\">0</span> (0.00 B)\n",
       "</pre>\n"
      ],
      "text/plain": [
       "\u001b[1m Non-trainable params: \u001b[0m\u001b[38;5;34m0\u001b[0m (0.00 B)\n"
      ]
     },
     "metadata": {},
     "output_type": "display_data"
    }
   ],
   "source": [
    "model.summary()"
   ]
  },
  {
   "cell_type": "code",
   "execution_count": 13,
   "metadata": {},
   "outputs": [
    {
     "name": "stdout",
     "output_type": "stream",
     "text": [
      "\u001b[1m1/1\u001b[0m \u001b[32m━━━━━━━━━━━━━━━━━━━━\u001b[0m\u001b[37m\u001b[0m \u001b[1m0s\u001b[0m 300ms/step\n"
     ]
    },
    {
     "data": {
      "text/plain": [
       "array([[[-1.40553825e-02, -1.04994699e-03,  3.56524065e-03,\n",
       "          1.31480433e-02, -1.07881427e-02, -1.85557455e-03,\n",
       "          1.52504109e-02, -3.94139178e-02,  3.63855250e-02,\n",
       "          2.72603072e-02],\n",
       "        [-1.40553825e-02, -1.04994699e-03,  3.56524065e-03,\n",
       "          1.31480433e-02, -1.07881427e-02, -1.85557455e-03,\n",
       "          1.52504109e-02, -3.94139178e-02,  3.63855250e-02,\n",
       "          2.72603072e-02],\n",
       "        [-1.40553825e-02, -1.04994699e-03,  3.56524065e-03,\n",
       "          1.31480433e-02, -1.07881427e-02, -1.85557455e-03,\n",
       "          1.52504109e-02, -3.94139178e-02,  3.63855250e-02,\n",
       "          2.72603072e-02],\n",
       "        [-1.40553825e-02, -1.04994699e-03,  3.56524065e-03,\n",
       "          1.31480433e-02, -1.07881427e-02, -1.85557455e-03,\n",
       "          1.52504109e-02, -3.94139178e-02,  3.63855250e-02,\n",
       "          2.72603072e-02],\n",
       "        [ 2.24936642e-02, -4.30824608e-03,  1.39979459e-02,\n",
       "          1.43095516e-02,  4.60913666e-02,  6.99845701e-03,\n",
       "         -2.25407612e-02,  3.99129502e-02, -4.89245914e-02,\n",
       "          4.04708460e-03],\n",
       "        [-1.25617385e-02, -2.09068134e-03, -1.22971758e-02,\n",
       "          2.62965001e-02,  8.91745090e-04,  4.82533462e-02,\n",
       "         -4.05530930e-02, -1.78835616e-02,  4.48244922e-02,\n",
       "         -3.87523063e-02],\n",
       "        [ 4.57630865e-02, -9.44202021e-03,  3.63513269e-02,\n",
       "         -3.66539136e-02, -1.27809271e-02, -3.76659036e-02,\n",
       "         -3.67017761e-02, -2.01006066e-02, -3.68956700e-02,\n",
       "         -3.44141014e-02],\n",
       "        [ 3.03496756e-02, -3.27358730e-02, -2.42089387e-02,\n",
       "         -3.83193269e-02, -4.35854681e-02,  1.08533725e-02,\n",
       "         -3.15658003e-02,  4.03598696e-03,  3.62830050e-02,\n",
       "         -2.00805422e-02]],\n",
       "\n",
       "       [[-1.40553825e-02, -1.04994699e-03,  3.56524065e-03,\n",
       "          1.31480433e-02, -1.07881427e-02, -1.85557455e-03,\n",
       "          1.52504109e-02, -3.94139178e-02,  3.63855250e-02,\n",
       "          2.72603072e-02],\n",
       "        [-1.40553825e-02, -1.04994699e-03,  3.56524065e-03,\n",
       "          1.31480433e-02, -1.07881427e-02, -1.85557455e-03,\n",
       "          1.52504109e-02, -3.94139178e-02,  3.63855250e-02,\n",
       "          2.72603072e-02],\n",
       "        [-1.40553825e-02, -1.04994699e-03,  3.56524065e-03,\n",
       "          1.31480433e-02, -1.07881427e-02, -1.85557455e-03,\n",
       "          1.52504109e-02, -3.94139178e-02,  3.63855250e-02,\n",
       "          2.72603072e-02],\n",
       "        [-1.40553825e-02, -1.04994699e-03,  3.56524065e-03,\n",
       "          1.31480433e-02, -1.07881427e-02, -1.85557455e-03,\n",
       "          1.52504109e-02, -3.94139178e-02,  3.63855250e-02,\n",
       "          2.72603072e-02],\n",
       "        [ 2.24936642e-02, -4.30824608e-03,  1.39979459e-02,\n",
       "          1.43095516e-02,  4.60913666e-02,  6.99845701e-03,\n",
       "         -2.25407612e-02,  3.99129502e-02, -4.89245914e-02,\n",
       "          4.04708460e-03],\n",
       "        [-1.25617385e-02, -2.09068134e-03, -1.22971758e-02,\n",
       "          2.62965001e-02,  8.91745090e-04,  4.82533462e-02,\n",
       "         -4.05530930e-02, -1.78835616e-02,  4.48244922e-02,\n",
       "         -3.87523063e-02],\n",
       "        [ 4.57630865e-02, -9.44202021e-03,  3.63513269e-02,\n",
       "         -3.66539136e-02, -1.27809271e-02, -3.76659036e-02,\n",
       "         -3.67017761e-02, -2.01006066e-02, -3.68956700e-02,\n",
       "         -3.44141014e-02],\n",
       "        [ 3.48859169e-02,  5.85573912e-03, -1.37245171e-02,\n",
       "          4.79914285e-02,  4.52103466e-03, -1.35333538e-02,\n",
       "         -9.42745060e-03, -3.11473254e-02, -2.96424981e-02,\n",
       "          1.76087134e-02]],\n",
       "\n",
       "       [[-1.40553825e-02, -1.04994699e-03,  3.56524065e-03,\n",
       "          1.31480433e-02, -1.07881427e-02, -1.85557455e-03,\n",
       "          1.52504109e-02, -3.94139178e-02,  3.63855250e-02,\n",
       "          2.72603072e-02],\n",
       "        [-1.40553825e-02, -1.04994699e-03,  3.56524065e-03,\n",
       "          1.31480433e-02, -1.07881427e-02, -1.85557455e-03,\n",
       "          1.52504109e-02, -3.94139178e-02,  3.63855250e-02,\n",
       "          2.72603072e-02],\n",
       "        [-1.40553825e-02, -1.04994699e-03,  3.56524065e-03,\n",
       "          1.31480433e-02, -1.07881427e-02, -1.85557455e-03,\n",
       "          1.52504109e-02, -3.94139178e-02,  3.63855250e-02,\n",
       "          2.72603072e-02],\n",
       "        [-1.40553825e-02, -1.04994699e-03,  3.56524065e-03,\n",
       "          1.31480433e-02, -1.07881427e-02, -1.85557455e-03,\n",
       "          1.52504109e-02, -3.94139178e-02,  3.63855250e-02,\n",
       "          2.72603072e-02],\n",
       "        [ 2.24936642e-02, -4.30824608e-03,  1.39979459e-02,\n",
       "          1.43095516e-02,  4.60913666e-02,  6.99845701e-03,\n",
       "         -2.25407612e-02,  3.99129502e-02, -4.89245914e-02,\n",
       "          4.04708460e-03],\n",
       "        [-2.33340263e-03, -4.36439291e-02,  1.60714425e-02,\n",
       "         -1.85293183e-02,  1.27512105e-02, -2.42732167e-02,\n",
       "         -4.99974973e-02, -2.75426991e-02,  3.48734595e-02,\n",
       "          2.97182091e-02],\n",
       "        [ 4.57630865e-02, -9.44202021e-03,  3.63513269e-02,\n",
       "         -3.66539136e-02, -1.27809271e-02, -3.76659036e-02,\n",
       "         -3.67017761e-02, -2.01006066e-02, -3.68956700e-02,\n",
       "         -3.44141014e-02],\n",
       "        [ 2.61872895e-02, -9.10779089e-03, -2.53939629e-03,\n",
       "         -2.00158246e-02, -2.01766249e-02,  3.16387527e-02,\n",
       "         -4.96597886e-02,  3.54155637e-02,  7.40133598e-03,\n",
       "          4.16373871e-02]],\n",
       "\n",
       "       [[-1.40553825e-02, -1.04994699e-03,  3.56524065e-03,\n",
       "          1.31480433e-02, -1.07881427e-02, -1.85557455e-03,\n",
       "          1.52504109e-02, -3.94139178e-02,  3.63855250e-02,\n",
       "          2.72603072e-02],\n",
       "        [-1.40553825e-02, -1.04994699e-03,  3.56524065e-03,\n",
       "          1.31480433e-02, -1.07881427e-02, -1.85557455e-03,\n",
       "          1.52504109e-02, -3.94139178e-02,  3.63855250e-02,\n",
       "          2.72603072e-02],\n",
       "        [-1.40553825e-02, -1.04994699e-03,  3.56524065e-03,\n",
       "          1.31480433e-02, -1.07881427e-02, -1.85557455e-03,\n",
       "          1.52504109e-02, -3.94139178e-02,  3.63855250e-02,\n",
       "          2.72603072e-02],\n",
       "        [-4.53665257e-02,  4.82747890e-02,  3.90880369e-02,\n",
       "         -2.73928288e-02,  1.06509216e-02, -4.14837152e-04,\n",
       "         -2.95369159e-02, -1.37625560e-02,  3.32696550e-02,\n",
       "          1.71667002e-02],\n",
       "        [ 3.54911350e-02,  3.91047932e-02, -3.55398767e-02,\n",
       "         -4.82941866e-02, -4.94558103e-02,  3.85638960e-02,\n",
       "         -7.82588869e-03, -4.54074256e-02, -4.24869359e-05,\n",
       "         -2.65541431e-02],\n",
       "        [-4.66325767e-02,  2.56509669e-02,  1.09663978e-02,\n",
       "         -1.14993677e-02,  2.06782930e-02,  2.91547924e-03,\n",
       "         -1.45285502e-02,  4.11144532e-02,  2.00249217e-02,\n",
       "          2.75666229e-02],\n",
       "        [-3.63711230e-02,  2.40887515e-02, -4.18338068e-02,\n",
       "          5.97446039e-03, -4.36538346e-02,  1.98169015e-02,\n",
       "          2.27843560e-02, -1.71417966e-02, -1.51413456e-02,\n",
       "          3.67224552e-02],\n",
       "        [ 3.02432515e-02, -3.17097083e-02, -1.32734552e-02,\n",
       "          4.08150069e-02,  2.15220936e-02,  4.22281027e-03,\n",
       "         -3.35008278e-02,  4.06774916e-02, -2.60742307e-02,\n",
       "          2.65205018e-02]],\n",
       "\n",
       "       [[-1.40553825e-02, -1.04994699e-03,  3.56524065e-03,\n",
       "          1.31480433e-02, -1.07881427e-02, -1.85557455e-03,\n",
       "          1.52504109e-02, -3.94139178e-02,  3.63855250e-02,\n",
       "          2.72603072e-02],\n",
       "        [-1.40553825e-02, -1.04994699e-03,  3.56524065e-03,\n",
       "          1.31480433e-02, -1.07881427e-02, -1.85557455e-03,\n",
       "          1.52504109e-02, -3.94139178e-02,  3.63855250e-02,\n",
       "          2.72603072e-02],\n",
       "        [-1.40553825e-02, -1.04994699e-03,  3.56524065e-03,\n",
       "          1.31480433e-02, -1.07881427e-02, -1.85557455e-03,\n",
       "          1.52504109e-02, -3.94139178e-02,  3.63855250e-02,\n",
       "          2.72603072e-02],\n",
       "        [-4.53665257e-02,  4.82747890e-02,  3.90880369e-02,\n",
       "         -2.73928288e-02,  1.06509216e-02, -4.14837152e-04,\n",
       "         -2.95369159e-02, -1.37625560e-02,  3.32696550e-02,\n",
       "          1.71667002e-02],\n",
       "        [ 3.54911350e-02,  3.91047932e-02, -3.55398767e-02,\n",
       "         -4.82941866e-02, -4.94558103e-02,  3.85638960e-02,\n",
       "         -7.82588869e-03, -4.54074256e-02, -4.24869359e-05,\n",
       "         -2.65541431e-02],\n",
       "        [-4.66325767e-02,  2.56509669e-02,  1.09663978e-02,\n",
       "         -1.14993677e-02,  2.06782930e-02,  2.91547924e-03,\n",
       "         -1.45285502e-02,  4.11144532e-02,  2.00249217e-02,\n",
       "          2.75666229e-02],\n",
       "        [-3.63711230e-02,  2.40887515e-02, -4.18338068e-02,\n",
       "          5.97446039e-03, -4.36538346e-02,  1.98169015e-02,\n",
       "          2.27843560e-02, -1.71417966e-02, -1.51413456e-02,\n",
       "          3.67224552e-02],\n",
       "        [-1.04683265e-02,  3.06946151e-02,  5.82744926e-03,\n",
       "          1.88574083e-02,  3.09754722e-02, -3.83157730e-02,\n",
       "         -4.96662855e-02, -4.86019030e-02,  5.41649759e-04,\n",
       "          3.75913121e-02]],\n",
       "\n",
       "       [[-1.40553825e-02, -1.04994699e-03,  3.56524065e-03,\n",
       "          1.31480433e-02, -1.07881427e-02, -1.85557455e-03,\n",
       "          1.52504109e-02, -3.94139178e-02,  3.63855250e-02,\n",
       "          2.72603072e-02],\n",
       "        [-1.40553825e-02, -1.04994699e-03,  3.56524065e-03,\n",
       "          1.31480433e-02, -1.07881427e-02, -1.85557455e-03,\n",
       "          1.52504109e-02, -3.94139178e-02,  3.63855250e-02,\n",
       "          2.72603072e-02],\n",
       "        [-1.40553825e-02, -1.04994699e-03,  3.56524065e-03,\n",
       "          1.31480433e-02, -1.07881427e-02, -1.85557455e-03,\n",
       "          1.52504109e-02, -3.94139178e-02,  3.63855250e-02,\n",
       "          2.72603072e-02],\n",
       "        [ 3.96739505e-02,  9.02043656e-03,  8.89159739e-04,\n",
       "          3.16643752e-02, -1.18484870e-02,  3.23886387e-02,\n",
       "          4.71357144e-02, -2.76105050e-02,  3.19112204e-02,\n",
       "         -4.55351844e-02],\n",
       "        [ 2.24936642e-02, -4.30824608e-03,  1.39979459e-02,\n",
       "          1.43095516e-02,  4.60913666e-02,  6.99845701e-03,\n",
       "         -2.25407612e-02,  3.99129502e-02, -4.89245914e-02,\n",
       "          4.04708460e-03],\n",
       "        [ 2.75204442e-02,  1.92061402e-02, -1.67935714e-02,\n",
       "          4.29603346e-02,  4.95254882e-02, -2.62145400e-02,\n",
       "         -2.20010411e-02, -3.20359953e-02,  3.78593840e-02,\n",
       "         -3.68168727e-02],\n",
       "        [ 4.57630865e-02, -9.44202021e-03,  3.63513269e-02,\n",
       "         -3.66539136e-02, -1.27809271e-02, -3.76659036e-02,\n",
       "         -3.67017761e-02, -2.01006066e-02, -3.68956700e-02,\n",
       "         -3.44141014e-02],\n",
       "        [-1.96511503e-02, -2.89934631e-02, -1.82284489e-02,\n",
       "          5.97560406e-03, -1.65030845e-02,  4.74271514e-02,\n",
       "         -1.15557760e-03,  3.09757702e-02, -2.88746115e-02,\n",
       "         -4.51436415e-02]],\n",
       "\n",
       "       [[-1.40553825e-02, -1.04994699e-03,  3.56524065e-03,\n",
       "          1.31480433e-02, -1.07881427e-02, -1.85557455e-03,\n",
       "          1.52504109e-02, -3.94139178e-02,  3.63855250e-02,\n",
       "          2.72603072e-02],\n",
       "        [-1.40553825e-02, -1.04994699e-03,  3.56524065e-03,\n",
       "          1.31480433e-02, -1.07881427e-02, -1.85557455e-03,\n",
       "          1.52504109e-02, -3.94139178e-02,  3.63855250e-02,\n",
       "          2.72603072e-02],\n",
       "        [-1.40553825e-02, -1.04994699e-03,  3.56524065e-03,\n",
       "          1.31480433e-02, -1.07881427e-02, -1.85557455e-03,\n",
       "          1.52504109e-02, -3.94139178e-02,  3.63855250e-02,\n",
       "          2.72603072e-02],\n",
       "        [-1.40553825e-02, -1.04994699e-03,  3.56524065e-03,\n",
       "          1.31480433e-02, -1.07881427e-02, -1.85557455e-03,\n",
       "          1.52504109e-02, -3.94139178e-02,  3.63855250e-02,\n",
       "          2.72603072e-02],\n",
       "        [ 3.19584720e-02,  4.70273532e-02, -4.50121239e-03,\n",
       "          1.22320764e-02, -1.37424953e-02,  1.99178196e-02,\n",
       "          4.71029915e-02,  2.54458897e-02,  4.13857400e-04,\n",
       "          3.51892374e-02],\n",
       "        [ 4.61097471e-02, -3.52348089e-02,  5.00156730e-03,\n",
       "          3.59024741e-02,  2.53195427e-02,  3.66223790e-02,\n",
       "         -3.40871811e-02, -1.18264183e-02, -3.17245945e-02,\n",
       "         -4.83238809e-02],\n",
       "        [-1.93051696e-02,  1.76858194e-02, -3.37469354e-02,\n",
       "          3.13238613e-02,  2.25684382e-02,  3.04884203e-02,\n",
       "          3.18629257e-02,  2.84367092e-02,  3.11491005e-02,\n",
       "         -3.07788700e-03],\n",
       "        [-3.63711230e-02,  2.40887515e-02, -4.18338068e-02,\n",
       "          5.97446039e-03, -4.36538346e-02,  1.98169015e-02,\n",
       "          2.27843560e-02, -1.71417966e-02, -1.51413456e-02,\n",
       "          3.67224552e-02]]], dtype=float32)"
      ]
     },
     "execution_count": 13,
     "metadata": {},
     "output_type": "execute_result"
    }
   ],
   "source": [
    "model.predict(embedded_docs)"
   ]
  },
  {
   "cell_type": "code",
   "execution_count": 14,
   "metadata": {},
   "outputs": [
    {
     "data": {
      "text/plain": [
       "array([   0,    0,    0,    0, 6869, 9359, 1830, 9992], dtype=int32)"
      ]
     },
     "execution_count": 14,
     "metadata": {},
     "output_type": "execute_result"
    }
   ],
   "source": [
    "embedded_docs[0]"
   ]
  },
  {
   "cell_type": "code",
   "execution_count": 15,
   "metadata": {},
   "outputs": [
    {
     "ename": "ValueError",
     "evalue": "Exception encountered when calling Sequential.call().\n\n\u001b[1mCannot take the length of shape with unknown rank.\u001b[0m\n\nArguments received by Sequential.call():\n  • inputs=tf.Tensor(shape=<unknown>, dtype=int32)\n  • training=False\n  • mask=None\n  • kwargs=<class 'inspect._empty'>",
     "output_type": "error",
     "traceback": [
      "\u001b[31m---------------------------------------------------------------------------\u001b[39m",
      "\u001b[31mValueError\u001b[39m                                Traceback (most recent call last)",
      "\u001b[36mCell\u001b[39m\u001b[36m \u001b[39m\u001b[32mIn[15]\u001b[39m\u001b[32m, line 1\u001b[39m\n\u001b[32m----> \u001b[39m\u001b[32m1\u001b[39m \u001b[43mmodel\u001b[49m\u001b[43m.\u001b[49m\u001b[43mpredict\u001b[49m\u001b[43m(\u001b[49m\u001b[43membedded_docs\u001b[49m\u001b[43m[\u001b[49m\u001b[32;43m0\u001b[39;49m\u001b[43m]\u001b[49m\u001b[43m)\u001b[49m\n",
      "\u001b[36mFile \u001b[39m\u001b[32me:\\Generative AI\\ANN\\virtual_env\\Lib\\site-packages\\keras\\src\\utils\\traceback_utils.py:122\u001b[39m, in \u001b[36mfilter_traceback.<locals>.error_handler\u001b[39m\u001b[34m(*args, **kwargs)\u001b[39m\n\u001b[32m    119\u001b[39m     filtered_tb = _process_traceback_frames(e.__traceback__)\n\u001b[32m    120\u001b[39m     \u001b[38;5;66;03m# To get the full stack trace, call:\u001b[39;00m\n\u001b[32m    121\u001b[39m     \u001b[38;5;66;03m# `keras.config.disable_traceback_filtering()`\u001b[39;00m\n\u001b[32m--> \u001b[39m\u001b[32m122\u001b[39m     \u001b[38;5;28;01mraise\u001b[39;00m e.with_traceback(filtered_tb) \u001b[38;5;28;01mfrom\u001b[39;00m\u001b[38;5;250m \u001b[39m\u001b[38;5;28;01mNone\u001b[39;00m\n\u001b[32m    123\u001b[39m \u001b[38;5;28;01mfinally\u001b[39;00m:\n\u001b[32m    124\u001b[39m     \u001b[38;5;28;01mdel\u001b[39;00m filtered_tb\n",
      "\u001b[36mFile \u001b[39m\u001b[32me:\\Generative AI\\ANN\\virtual_env\\Lib\\site-packages\\keras\\src\\utils\\traceback_utils.py:122\u001b[39m, in \u001b[36mfilter_traceback.<locals>.error_handler\u001b[39m\u001b[34m(*args, **kwargs)\u001b[39m\n\u001b[32m    119\u001b[39m     filtered_tb = _process_traceback_frames(e.__traceback__)\n\u001b[32m    120\u001b[39m     \u001b[38;5;66;03m# To get the full stack trace, call:\u001b[39;00m\n\u001b[32m    121\u001b[39m     \u001b[38;5;66;03m# `keras.config.disable_traceback_filtering()`\u001b[39;00m\n\u001b[32m--> \u001b[39m\u001b[32m122\u001b[39m     \u001b[38;5;28;01mraise\u001b[39;00m e.with_traceback(filtered_tb) \u001b[38;5;28;01mfrom\u001b[39;00m\u001b[38;5;250m \u001b[39m\u001b[38;5;28;01mNone\u001b[39;00m\n\u001b[32m    123\u001b[39m \u001b[38;5;28;01mfinally\u001b[39;00m:\n\u001b[32m    124\u001b[39m     \u001b[38;5;28;01mdel\u001b[39;00m filtered_tb\n",
      "\u001b[31mValueError\u001b[39m: Exception encountered when calling Sequential.call().\n\n\u001b[1mCannot take the length of shape with unknown rank.\u001b[0m\n\nArguments received by Sequential.call():\n  • inputs=tf.Tensor(shape=<unknown>, dtype=int32)\n  • training=False\n  • mask=None\n  • kwargs=<class 'inspect._empty'>"
     ]
    }
   ],
   "source": [
    "model.predict(embedded_docs[0])"
   ]
  },
  {
   "cell_type": "code",
   "execution_count": null,
   "metadata": {},
   "outputs": [],
   "source": []
  }
 ],
 "metadata": {
  "kernelspec": {
   "display_name": "virtual_env",
   "language": "python",
   "name": "python3"
  },
  "language_info": {
   "codemirror_mode": {
    "name": "ipython",
    "version": 3
   },
   "file_extension": ".py",
   "mimetype": "text/x-python",
   "name": "python",
   "nbconvert_exporter": "python",
   "pygments_lexer": "ipython3",
   "version": "3.12.6"
  }
 },
 "nbformat": 4,
 "nbformat_minor": 2
}
